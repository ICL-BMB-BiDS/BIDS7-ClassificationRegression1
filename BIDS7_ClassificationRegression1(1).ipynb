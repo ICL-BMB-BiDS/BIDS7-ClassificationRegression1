{
 "cells": [
  {
   "cell_type": "code",
   "execution_count": 1,
   "metadata": {},
   "outputs": [],
   "source": [
    "# IMPORTS\n",
    "import numpy as np\n",
    "import pandas as pd\n",
    "import matplotlib.pyplot as plt\n",
    "import seaborn as sns\n",
    "import sklearn.metrics as mx\n",
    "\n",
    "from sklearn.model_selection import train_test_split,KFold\n",
    "from sklearn.linear_model import LogisticRegression # for Lasso and Elastic Net logistic regression\n",
    "from sklearn.cross_decomposition import PLSRegression"
   ]
  },
  {
   "cell_type": "markdown",
   "metadata": {},
   "source": [
    "# In this tutorial we will implement PLS, ridge, lasso and elastic net regression models\n",
    "\n",
    "## Learning Outcomes: \n",
    "1) Implement PLS, ridge, and lasso and elastic-net using the popular python library sklearn https://scikit-learn.org/stable/\n",
    "2) Visualise the regression results \n",
    "3) Explore different metrics to evaluate the model performance in regression settings\n",
    "4) Investigate the effect of scaling the data on the model performance\n",
    "5) Apply peanilised (ligistic) regression for classification "
   ]
  },
  {
   "cell_type": "markdown",
   "metadata": {},
   "source": [
    "## Data"
   ]
  },
  {
   "cell_type": "markdown",
   "metadata": {},
   "source": [
    "In this tuorial we will use some plasma metabolomics data to predict BMI"
   ]
  },
  {
   "cell_type": "code",
   "execution_count": 2,
   "metadata": {},
   "outputs": [],
   "source": [
    "df = pd.read_csv('Data/diabetes_metabolomics_plasma.csv') #import the data "
   ]
  },
  {
   "cell_type": "code",
   "execution_count": 3,
   "metadata": {},
   "outputs": [
    {
     "data": {
      "text/html": [
       "<div>\n",
       "<style scoped>\n",
       "    .dataframe tbody tr th:only-of-type {\n",
       "        vertical-align: middle;\n",
       "    }\n",
       "\n",
       "    .dataframe tbody tr th {\n",
       "        vertical-align: top;\n",
       "    }\n",
       "\n",
       "    .dataframe thead th {\n",
       "        text-align: right;\n",
       "    }\n",
       "</style>\n",
       "<table border=\"1\" class=\"dataframe\">\n",
       "  <thead>\n",
       "    <tr style=\"text-align: right;\">\n",
       "      <th></th>\n",
       "      <th>AGE</th>\n",
       "      <th>GENDER</th>\n",
       "      <th>BMI</th>\n",
       "      <th>ETH</th>\n",
       "      <th>T2D</th>\n",
       "      <th>sample_id</th>\n",
       "      <th>1,11-Undecanedicarboxylic acid</th>\n",
       "      <th>1,2-dipalmitoylglycerol</th>\n",
       "      <th>1,2-propanediol</th>\n",
       "      <th>1,3,7-trimethylurate</th>\n",
       "      <th>...</th>\n",
       "      <th>tyrosine</th>\n",
       "      <th>undecanoate (11:0)</th>\n",
       "      <th>urate</th>\n",
       "      <th>urea</th>\n",
       "      <th>uridine</th>\n",
       "      <th>valine</th>\n",
       "      <th>xanthine</th>\n",
       "      <th>xylitol</th>\n",
       "      <th>xylonate</th>\n",
       "      <th>xylose</th>\n",
       "    </tr>\n",
       "  </thead>\n",
       "  <tbody>\n",
       "    <tr>\n",
       "      <th>0</th>\n",
       "      <td>35</td>\n",
       "      <td>0</td>\n",
       "      <td>25.0</td>\n",
       "      <td>2</td>\n",
       "      <td>0</td>\n",
       "      <td>QMDiab-ID222</td>\n",
       "      <td>4.015998</td>\n",
       "      <td>4.822787</td>\n",
       "      <td>5.098491</td>\n",
       "      <td>4.430118</td>\n",
       "      <td>...</td>\n",
       "      <td>6.844272</td>\n",
       "      <td>4.885885</td>\n",
       "      <td>5.824023</td>\n",
       "      <td>7.577408</td>\n",
       "      <td>5.290736</td>\n",
       "      <td>7.239540</td>\n",
       "      <td>4.254777</td>\n",
       "      <td>4.052859</td>\n",
       "      <td>4.387091</td>\n",
       "      <td>4.676128</td>\n",
       "    </tr>\n",
       "    <tr>\n",
       "      <th>1</th>\n",
       "      <td>47</td>\n",
       "      <td>1</td>\n",
       "      <td>28.4</td>\n",
       "      <td>3</td>\n",
       "      <td>0</td>\n",
       "      <td>QMDiab-ID113</td>\n",
       "      <td>4.165116</td>\n",
       "      <td>4.991613</td>\n",
       "      <td>5.064084</td>\n",
       "      <td>4.585177</td>\n",
       "      <td>...</td>\n",
       "      <td>6.755005</td>\n",
       "      <td>4.777224</td>\n",
       "      <td>5.990350</td>\n",
       "      <td>7.465627</td>\n",
       "      <td>5.220019</td>\n",
       "      <td>7.348071</td>\n",
       "      <td>4.183861</td>\n",
       "      <td>4.341484</td>\n",
       "      <td>4.460427</td>\n",
       "      <td>4.585401</td>\n",
       "    </tr>\n",
       "    <tr>\n",
       "      <th>2</th>\n",
       "      <td>55</td>\n",
       "      <td>1</td>\n",
       "      <td>29.7</td>\n",
       "      <td>1</td>\n",
       "      <td>0</td>\n",
       "      <td>QMDiab-ID29</td>\n",
       "      <td>3.928917</td>\n",
       "      <td>4.965361</td>\n",
       "      <td>5.185007</td>\n",
       "      <td>4.006547</td>\n",
       "      <td>...</td>\n",
       "      <td>6.971284</td>\n",
       "      <td>4.737634</td>\n",
       "      <td>5.892525</td>\n",
       "      <td>7.433326</td>\n",
       "      <td>5.188568</td>\n",
       "      <td>7.356957</td>\n",
       "      <td>4.350213</td>\n",
       "      <td>4.101610</td>\n",
       "      <td>4.726884</td>\n",
       "      <td>4.785554</td>\n",
       "    </tr>\n",
       "    <tr>\n",
       "      <th>3</th>\n",
       "      <td>56</td>\n",
       "      <td>1</td>\n",
       "      <td>23.1</td>\n",
       "      <td>2</td>\n",
       "      <td>0</td>\n",
       "      <td>QMDiab-ID243</td>\n",
       "      <td>4.272476</td>\n",
       "      <td>4.819821</td>\n",
       "      <td>5.015473</td>\n",
       "      <td>4.564346</td>\n",
       "      <td>...</td>\n",
       "      <td>6.943175</td>\n",
       "      <td>4.736576</td>\n",
       "      <td>5.832160</td>\n",
       "      <td>7.422004</td>\n",
       "      <td>5.037060</td>\n",
       "      <td>7.260422</td>\n",
       "      <td>4.037787</td>\n",
       "      <td>4.111296</td>\n",
       "      <td>4.488342</td>\n",
       "      <td>4.696762</td>\n",
       "    </tr>\n",
       "    <tr>\n",
       "      <th>4</th>\n",
       "      <td>36</td>\n",
       "      <td>1</td>\n",
       "      <td>30.1</td>\n",
       "      <td>1</td>\n",
       "      <td>0</td>\n",
       "      <td>QMDiab-ID270</td>\n",
       "      <td>3.914247</td>\n",
       "      <td>4.900546</td>\n",
       "      <td>5.264884</td>\n",
       "      <td>3.719528</td>\n",
       "      <td>...</td>\n",
       "      <td>7.068370</td>\n",
       "      <td>4.754971</td>\n",
       "      <td>6.013982</td>\n",
       "      <td>7.786201</td>\n",
       "      <td>5.388167</td>\n",
       "      <td>7.377851</td>\n",
       "      <td>4.211793</td>\n",
       "      <td>4.099279</td>\n",
       "      <td>4.545646</td>\n",
       "      <td>4.630343</td>\n",
       "    </tr>\n",
       "  </tbody>\n",
       "</table>\n",
       "<p>5 rows × 328 columns</p>\n",
       "</div>"
      ],
      "text/plain": [
       "   AGE  GENDER   BMI  ETH  T2D     sample_id  1,11-Undecanedicarboxylic acid  \\\n",
       "0   35       0  25.0    2    0  QMDiab-ID222                        4.015998   \n",
       "1   47       1  28.4    3    0  QMDiab-ID113                        4.165116   \n",
       "2   55       1  29.7    1    0   QMDiab-ID29                        3.928917   \n",
       "3   56       1  23.1    2    0  QMDiab-ID243                        4.272476   \n",
       "4   36       1  30.1    1    0  QMDiab-ID270                        3.914247   \n",
       "\n",
       "   1,2-dipalmitoylglycerol  1,2-propanediol  1,3,7-trimethylurate  ...  \\\n",
       "0                 4.822787         5.098491              4.430118  ...   \n",
       "1                 4.991613         5.064084              4.585177  ...   \n",
       "2                 4.965361         5.185007              4.006547  ...   \n",
       "3                 4.819821         5.015473              4.564346  ...   \n",
       "4                 4.900546         5.264884              3.719528  ...   \n",
       "\n",
       "   tyrosine  undecanoate (11:0)     urate      urea   uridine    valine  \\\n",
       "0  6.844272            4.885885  5.824023  7.577408  5.290736  7.239540   \n",
       "1  6.755005            4.777224  5.990350  7.465627  5.220019  7.348071   \n",
       "2  6.971284            4.737634  5.892525  7.433326  5.188568  7.356957   \n",
       "3  6.943175            4.736576  5.832160  7.422004  5.037060  7.260422   \n",
       "4  7.068370            4.754971  6.013982  7.786201  5.388167  7.377851   \n",
       "\n",
       "   xanthine   xylitol  xylonate    xylose  \n",
       "0  4.254777  4.052859  4.387091  4.676128  \n",
       "1  4.183861  4.341484  4.460427  4.585401  \n",
       "2  4.350213  4.101610  4.726884  4.785554  \n",
       "3  4.037787  4.111296  4.488342  4.696762  \n",
       "4  4.211793  4.099279  4.545646  4.630343  \n",
       "\n",
       "[5 rows x 328 columns]"
      ]
     },
     "execution_count": 3,
     "metadata": {},
     "output_type": "execute_result"
    }
   ],
   "source": [
    "df.head() ### "
   ]
  },
  {
   "cell_type": "markdown",
   "metadata": {},
   "source": [
    "As you can see this data set in its current format is not suitable for our alogirthms. \n",
    "In python column indices start from 0, we want to subset only the metabolomics colulmns for feature scaling. \n"
   ]
  },
  {
   "cell_type": "code",
   "execution_count": 4,
   "metadata": {},
   "outputs": [],
   "source": [
    "# Create feature matrix and target vector\n",
    "X = df.iloc[:,6:]\n",
    "y = df['BMI']"
   ]
  },
  {
   "cell_type": "code",
   "execution_count": 5,
   "metadata": {},
   "outputs": [
    {
     "data": {
      "text/html": [
       "<div>\n",
       "<style scoped>\n",
       "    .dataframe tbody tr th:only-of-type {\n",
       "        vertical-align: middle;\n",
       "    }\n",
       "\n",
       "    .dataframe tbody tr th {\n",
       "        vertical-align: top;\n",
       "    }\n",
       "\n",
       "    .dataframe thead th {\n",
       "        text-align: right;\n",
       "    }\n",
       "</style>\n",
       "<table border=\"1\" class=\"dataframe\">\n",
       "  <thead>\n",
       "    <tr style=\"text-align: right;\">\n",
       "      <th></th>\n",
       "      <th>1,11-Undecanedicarboxylic acid</th>\n",
       "      <th>1,2-dipalmitoylglycerol</th>\n",
       "      <th>1,2-propanediol</th>\n",
       "      <th>1,3,7-trimethylurate</th>\n",
       "      <th>1,3-dihydroxyacetone</th>\n",
       "      <th>1,3-dipalmitoylglycerol</th>\n",
       "      <th>1,5-anhydroglucitol (1,5-AG)</th>\n",
       "      <th>1,7-dimethylurate</th>\n",
       "      <th>1-arachidonoylglycerophosphocholine*</th>\n",
       "      <th>1-arachidonoylglycerophosphoethanolamine*</th>\n",
       "      <th>...</th>\n",
       "      <th>tyrosine</th>\n",
       "      <th>undecanoate (11:0)</th>\n",
       "      <th>urate</th>\n",
       "      <th>urea</th>\n",
       "      <th>uridine</th>\n",
       "      <th>valine</th>\n",
       "      <th>xanthine</th>\n",
       "      <th>xylitol</th>\n",
       "      <th>xylonate</th>\n",
       "      <th>xylose</th>\n",
       "    </tr>\n",
       "  </thead>\n",
       "  <tbody>\n",
       "    <tr>\n",
       "      <th>0</th>\n",
       "      <td>4.015998</td>\n",
       "      <td>4.822787</td>\n",
       "      <td>5.098491</td>\n",
       "      <td>4.430118</td>\n",
       "      <td>5.099892</td>\n",
       "      <td>3.931847</td>\n",
       "      <td>5.635887</td>\n",
       "      <td>4.383338</td>\n",
       "      <td>6.419791</td>\n",
       "      <td>5.494844</td>\n",
       "      <td>...</td>\n",
       "      <td>6.844272</td>\n",
       "      <td>4.885885</td>\n",
       "      <td>5.824023</td>\n",
       "      <td>7.577408</td>\n",
       "      <td>5.290736</td>\n",
       "      <td>7.239540</td>\n",
       "      <td>4.254777</td>\n",
       "      <td>4.052859</td>\n",
       "      <td>4.387091</td>\n",
       "      <td>4.676128</td>\n",
       "    </tr>\n",
       "    <tr>\n",
       "      <th>1</th>\n",
       "      <td>4.165116</td>\n",
       "      <td>4.991613</td>\n",
       "      <td>5.064084</td>\n",
       "      <td>4.585177</td>\n",
       "      <td>4.914487</td>\n",
       "      <td>4.547639</td>\n",
       "      <td>5.628356</td>\n",
       "      <td>4.205478</td>\n",
       "      <td>6.376636</td>\n",
       "      <td>5.521565</td>\n",
       "      <td>...</td>\n",
       "      <td>6.755005</td>\n",
       "      <td>4.777224</td>\n",
       "      <td>5.990350</td>\n",
       "      <td>7.465627</td>\n",
       "      <td>5.220019</td>\n",
       "      <td>7.348071</td>\n",
       "      <td>4.183861</td>\n",
       "      <td>4.341484</td>\n",
       "      <td>4.460427</td>\n",
       "      <td>4.585401</td>\n",
       "    </tr>\n",
       "    <tr>\n",
       "      <th>2</th>\n",
       "      <td>3.928917</td>\n",
       "      <td>4.965361</td>\n",
       "      <td>5.185007</td>\n",
       "      <td>4.006547</td>\n",
       "      <td>5.199614</td>\n",
       "      <td>4.715108</td>\n",
       "      <td>5.532230</td>\n",
       "      <td>4.068107</td>\n",
       "      <td>6.398308</td>\n",
       "      <td>5.512725</td>\n",
       "      <td>...</td>\n",
       "      <td>6.971284</td>\n",
       "      <td>4.737634</td>\n",
       "      <td>5.892525</td>\n",
       "      <td>7.433326</td>\n",
       "      <td>5.188568</td>\n",
       "      <td>7.356957</td>\n",
       "      <td>4.350213</td>\n",
       "      <td>4.101610</td>\n",
       "      <td>4.726884</td>\n",
       "      <td>4.785554</td>\n",
       "    </tr>\n",
       "    <tr>\n",
       "      <th>3</th>\n",
       "      <td>4.272476</td>\n",
       "      <td>4.819821</td>\n",
       "      <td>5.015473</td>\n",
       "      <td>4.564346</td>\n",
       "      <td>5.123898</td>\n",
       "      <td>4.328667</td>\n",
       "      <td>5.245998</td>\n",
       "      <td>4.448552</td>\n",
       "      <td>6.383578</td>\n",
       "      <td>5.573093</td>\n",
       "      <td>...</td>\n",
       "      <td>6.943175</td>\n",
       "      <td>4.736576</td>\n",
       "      <td>5.832160</td>\n",
       "      <td>7.422004</td>\n",
       "      <td>5.037060</td>\n",
       "      <td>7.260422</td>\n",
       "      <td>4.037787</td>\n",
       "      <td>4.111296</td>\n",
       "      <td>4.488342</td>\n",
       "      <td>4.696762</td>\n",
       "    </tr>\n",
       "    <tr>\n",
       "      <th>4</th>\n",
       "      <td>3.914247</td>\n",
       "      <td>4.900546</td>\n",
       "      <td>5.264884</td>\n",
       "      <td>3.719528</td>\n",
       "      <td>4.997426</td>\n",
       "      <td>4.408874</td>\n",
       "      <td>5.907860</td>\n",
       "      <td>4.078259</td>\n",
       "      <td>6.397295</td>\n",
       "      <td>5.613761</td>\n",
       "      <td>...</td>\n",
       "      <td>7.068370</td>\n",
       "      <td>4.754971</td>\n",
       "      <td>6.013982</td>\n",
       "      <td>7.786201</td>\n",
       "      <td>5.388167</td>\n",
       "      <td>7.377851</td>\n",
       "      <td>4.211793</td>\n",
       "      <td>4.099279</td>\n",
       "      <td>4.545646</td>\n",
       "      <td>4.630343</td>\n",
       "    </tr>\n",
       "  </tbody>\n",
       "</table>\n",
       "<p>5 rows × 322 columns</p>\n",
       "</div>"
      ],
      "text/plain": [
       "   1,11-Undecanedicarboxylic acid  1,2-dipalmitoylglycerol  1,2-propanediol  \\\n",
       "0                        4.015998                 4.822787         5.098491   \n",
       "1                        4.165116                 4.991613         5.064084   \n",
       "2                        3.928917                 4.965361         5.185007   \n",
       "3                        4.272476                 4.819821         5.015473   \n",
       "4                        3.914247                 4.900546         5.264884   \n",
       "\n",
       "   1,3,7-trimethylurate  1,3-dihydroxyacetone  1,3-dipalmitoylglycerol  \\\n",
       "0              4.430118              5.099892                 3.931847   \n",
       "1              4.585177              4.914487                 4.547639   \n",
       "2              4.006547              5.199614                 4.715108   \n",
       "3              4.564346              5.123898                 4.328667   \n",
       "4              3.719528              4.997426                 4.408874   \n",
       "\n",
       "   1,5-anhydroglucitol (1,5-AG)  1,7-dimethylurate  \\\n",
       "0                      5.635887           4.383338   \n",
       "1                      5.628356           4.205478   \n",
       "2                      5.532230           4.068107   \n",
       "3                      5.245998           4.448552   \n",
       "4                      5.907860           4.078259   \n",
       "\n",
       "   1-arachidonoylglycerophosphocholine*  \\\n",
       "0                              6.419791   \n",
       "1                              6.376636   \n",
       "2                              6.398308   \n",
       "3                              6.383578   \n",
       "4                              6.397295   \n",
       "\n",
       "   1-arachidonoylglycerophosphoethanolamine*  ...  tyrosine  \\\n",
       "0                                   5.494844  ...  6.844272   \n",
       "1                                   5.521565  ...  6.755005   \n",
       "2                                   5.512725  ...  6.971284   \n",
       "3                                   5.573093  ...  6.943175   \n",
       "4                                   5.613761  ...  7.068370   \n",
       "\n",
       "   undecanoate (11:0)     urate      urea   uridine    valine  xanthine  \\\n",
       "0            4.885885  5.824023  7.577408  5.290736  7.239540  4.254777   \n",
       "1            4.777224  5.990350  7.465627  5.220019  7.348071  4.183861   \n",
       "2            4.737634  5.892525  7.433326  5.188568  7.356957  4.350213   \n",
       "3            4.736576  5.832160  7.422004  5.037060  7.260422  4.037787   \n",
       "4            4.754971  6.013982  7.786201  5.388167  7.377851  4.211793   \n",
       "\n",
       "    xylitol  xylonate    xylose  \n",
       "0  4.052859  4.387091  4.676128  \n",
       "1  4.341484  4.460427  4.585401  \n",
       "2  4.101610  4.726884  4.785554  \n",
       "3  4.111296  4.488342  4.696762  \n",
       "4  4.099279  4.545646  4.630343  \n",
       "\n",
       "[5 rows x 322 columns]"
      ]
     },
     "execution_count": 5,
     "metadata": {},
     "output_type": "execute_result"
    }
   ],
   "source": [
    "X.head() # Try using the .tail() function -- it is similar to the .head() function but displays the last 5 rows "
   ]
  },
  {
   "cell_type": "markdown",
   "metadata": {},
   "source": [
    "In order to test our alogrithms we need to set aside some of the data we have. This is practice for machine learning models. We will use 80% of our data to train our model, and the remaining 20% will be used to test the performance of our model. \n",
    "\n",
    "Scikit-Learn has a function train_test_split to easily do this for us."
   ]
  },
  {
   "cell_type": "code",
   "execution_count": 6,
   "metadata": {},
   "outputs": [],
   "source": [
    "# Import train-test split\n",
    "from sklearn.model_selection import train_test_split\n",
    "\n",
    "# Split the df into 80% train 20% test data\n",
    "X_train, X_test, y_train, y_test = train_test_split(X, y, test_size= 0.20, random_state=42) #### if you want you can change the number '42 to your birthday and it will change the results slightly'"
   ]
  },
  {
   "cell_type": "markdown",
   "metadata": {},
   "source": [
    "It is crucial that all of the data it is comparing is on the same scale. In our metabolomics data, most of the data is continuous. We will scale the data using the StandardScaler() shown in the previous tutorials. \n",
    "\n",
    "When scaling your data you want to fit the model to your training data, and only transform your testing data. "
   ]
  },
  {
   "cell_type": "code",
   "execution_count": 7,
   "metadata": {},
   "outputs": [],
   "source": [
    "# Normalize Data\n",
    "from sklearn.preprocessing import StandardScaler\n",
    "\n",
    "# Instantiate scaler model\n",
    "scaler = StandardScaler()\n",
    "\n",
    "# Fit and Transform X_train\n",
    "X_train_scaled = scaler.fit_transform(X_train)\n",
    "\n",
    "# Transform X_test\n",
    "X_test_scaled = scaler.transform(X_test)"
   ]
  },
  {
   "cell_type": "markdown",
   "metadata": {},
   "source": [
    "### PLS Regression "
   ]
  },
  {
   "cell_type": "code",
   "execution_count": 8,
   "metadata": {},
   "outputs": [],
   "source": [
    "pls2 = PLSRegression(n_components=1)\n",
    "pls2.fit(X_train_scaled, y_train)\n",
    "y_pred = pls2.predict(X_test_scaled)"
   ]
  },
  {
   "cell_type": "markdown",
   "metadata": {},
   "source": [
    "#### Metrics\n",
    "Today we will use the follwing metrics\n",
    "- explained_variance_score\n",
    "- r2_score\n",
    "- mean_squared_error\n",
    "- mean_absolute_error\n",
    "- SMAPE (Symmetric mean absolute percentage error)"
   ]
  },
  {
   "cell_type": "code",
   "execution_count": 9,
   "metadata": {},
   "outputs": [],
   "source": [
    "# This is just a helper function to get the smap metric - no need to change \n",
    "def smape(A, F):\n",
    "    out =  100/len(A) * np.sum(2 * np.abs(F - A) / (np.abs(A) + np.abs(F)))\n",
    "    return(out)"
   ]
  },
  {
   "cell_type": "code",
   "execution_count": 10,
   "metadata": {},
   "outputs": [],
   "source": [
    "## Here we will defeine several helper functions to compute these metrics \n",
    "from sklearn import metrics\n",
    "def RegmodelPerformance(y_true, y_pred):\n",
    "    exp_var = metrics.explained_variance_score(y_true, y_pred)\n",
    "    r_square = metrics.r2_score(y_true, y_pred)\n",
    "    MSE = metrics.mean_squared_error(y_true, y_pred)\n",
    "    MAE = metrics.mean_absolute_error(y_true, y_pred)\n",
    "    SMAPE = smape(np.array(y_true), y_pred)\n",
    "    return(exp_var, r_square, MSE, MAE, SMAPE)\n",
    "\n",
    "def printPerformance(y_true, y_pred):\n",
    "    exp_var, r_square, MSE, MAE, SMAPE = RegmodelPerformance(y_true, y_pred)\n",
    "    print(\"explained variance score = \" \"%.4f\" % exp_var)\n",
    "    print(\"R2 = \" \"%.4f\" % r_square)\n",
    "    print(\"MSE = \" \"%.4f\" % MSE)\n",
    "    print(\"MAE = \" \"%.4f\" % MAE)\n",
    "    print(\"SMAPE = \" \"%.4f\" % SMAPE)\n",
    "    np.set_printoptions(precision=2)"
   ]
  },
  {
   "cell_type": "code",
   "execution_count": 11,
   "metadata": {},
   "outputs": [
    {
     "name": "stdout",
     "output_type": "stream",
     "text": [
      "explained variance score = 0.2406\n",
      "R2 = 0.2400\n",
      "MSE = 43.6275\n",
      "MAE = 4.8749\n",
      "SMAPE = 1376.0287\n"
     ]
    }
   ],
   "source": [
    "printPerformance(y_test, y_pred)"
   ]
  },
  {
   "cell_type": "markdown",
   "metadata": {},
   "source": [
    "Whilst we have trained and fit a PLS model, we have not optimised the number of components. We also have not done any cross validation."
   ]
  },
  {
   "cell_type": "code",
   "execution_count": 12,
   "metadata": {},
   "outputs": [
    {
     "data": {
      "text/plain": [
       "Text(0.5, 1.0, 'Cross-validation Metrics')"
      ]
     },
     "execution_count": 12,
     "metadata": {},
     "output_type": "execute_result"
    },
    {
     "data": {
      "image/png": "[encoded data removed]",
      "text/plain": [
       "<Figure size 432x288 with 1 Axes>"
      ]
     },
     "metadata": {
      "needs_background": "light"
     },
     "output_type": "display_data"
    }
   ],
   "source": [
    "from sklearn.model_selection import RepeatedKFold\n",
    "from sklearn import model_selection\n",
    "from sklearn.preprocessing import scale \n",
    "cv = RepeatedKFold(n_splits=10, n_repeats=1, random_state=123)\n",
    "\n",
    "mse = []\n",
    "n = len(X_train)\n",
    "\n",
    "\n",
    "\n",
    "# Calculate MSE using cross-validation, adding one component at a time\n",
    "for i in np.arange(1, 10):\n",
    "    pls = PLSRegression(n_components=i)\n",
    "    score = -1*model_selection.cross_val_score(pls, scale(X_train), y_train, cv=cv,\n",
    "               scoring='neg_mean_squared_error').mean()\n",
    "    mse.append(score)\n",
    "\n",
    "#plot test MSE vs. number of components\n",
    "plt.plot(mse)\n",
    "plt.xlabel('Number of PLS Components')\n",
    "plt.ylabel('MSE')\n",
    "plt.title('Cross-validation Metrics')\n"
   ]
  },
  {
   "cell_type": "markdown",
   "metadata": {},
   "source": [
    "Alternatively, we can also run our own 10-fold CV."
   ]
  },
  {
   "cell_type": "markdown",
   "metadata": {},
   "source": [
    "Try below to fill in with your own code to the cross-validation loop"
   ]
  },
  {
   "cell_type": "code",
   "execution_count": 13,
   "metadata": {},
   "outputs": [
    {
     "ename": "IndentationError",
     "evalue": "expected an indented block (<ipython-input-13-adc7504c0738>, line 11)",
     "output_type": "error",
     "traceback": [
      "\u001b[0;36m  File \u001b[0;32m\"<ipython-input-13-adc7504c0738>\"\u001b[0;36m, line \u001b[0;32m11\u001b[0m\n\u001b[0;31m    ''' add your own code here then investigate what I wrote below'''''\u001b[0m\n\u001b[0m    ^\u001b[0m\n\u001b[0;31mIndentationError\u001b[0m\u001b[0;31m:\u001b[0m expected an indented block\n"
     ]
    }
   ],
   "source": [
    "exp_vars = []\n",
    "r_squares = []\n",
    "MSEs = []\n",
    "MAEs = []\n",
    "SMAPEs = [] \n",
    "from sklearn.model_selection import KFold\n",
    "kf = KFold(n_splits=2, random_state=42, shuffle=False)\n",
    "kf.get_n_splits(X_train_scaled)\n",
    "for train_index, test_index in kf.split(X_train):\n",
    "    \n",
    "''' add your own code here then investigate what I wrote below'''''"
   ]
  },
  {
   "cell_type": "code",
   "execution_count": 14,
   "metadata": {},
   "outputs": [],
   "source": [
    "# Calculate MSE using cross-validation, \n",
    "exp_var_mean = 0 \n",
    "r_square_mean = 0\n",
    "MSE_mean = 0 \n",
    "MAE_mean = 0\n",
    "SMAPE_mean = 0 \n",
    "kf = KFold(n_splits=10, random_state=None, shuffle=False)\n",
    "kf.get_n_splits(X_train)\n",
    "\n",
    "for train_index, val_index in kf.split(X_train):\n",
    "    X_traincv = X_train.iloc[train_index]\n",
    "    X_valcv = X_train.iloc[val_index]\n",
    "    y_traincv = y_train.iloc[train_index]\n",
    "    y_valcv = y_train.iloc[val_index]\n",
    "    X_traincv = scaler.fit_transform(X_traincv)\n",
    "    X_valcv = scaler.fit_transform(X_valcv)\n",
    "    pls = PLSRegression(n_components=2) ## i is the no. components, consider \n",
    "    pls.fit(X_traincv, y_traincv)\n",
    "    ypred = pls.predict(X_valcv)\n",
    "    exp_var, r_square, MSE, MAE, SMAPE = RegmodelPerformance(y_valcv, ypred)\n",
    "    exp_var_mean+= exp_var\n",
    "    r_square_mean += r_square\n",
    "    MSE_mean += MSE\n",
    "    MAE_mean += MAE\n",
    "    SMAPE_mean += SMAPE\n",
    "    \n",
    "    "
   ]
  },
  {
   "cell_type": "code",
   "execution_count": 15,
   "metadata": {},
   "outputs": [
    {
     "name": "stdout",
     "output_type": "stream",
     "text": [
      "0.30927409926114213\n",
      "0.28691237018318405\n"
     ]
    }
   ],
   "source": [
    "## in the space below compute the mean and standard deviations of your metrics\n",
    "## I have done the first one as an exaemple\n",
    "\n",
    "print(exp_var_mean/10)\n",
    "print(r_square_mean/10)"
   ]
  },
  {
   "cell_type": "markdown",
   "metadata": {},
   "source": [
    "Now have a think how you might do this and optimise the number of components at the same time"
   ]
  },
  {
   "cell_type": "code",
   "execution_count": 16,
   "metadata": {},
   "outputs": [],
   "source": [
    "exp_vars = []\n",
    "r_squares = []\n",
    "MSEs = []\n",
    "MAEs = []\n",
    "SMAPEs = [] \n",
    "# Calculate MSE using cross-validation, adding one component at a time\n",
    "for i in range(1, 12):   #Here we are defining how many components \n",
    "    exp_var_mean = 0 \n",
    "    r_square_mean = 0\n",
    "    MSE_mean = 0 \n",
    "    MAE_mean = 0\n",
    "    SMAPE_mean = 0 \n",
    "    kf = KFold(n_splits=10, random_state=None, shuffle=False) ## can also input and value you like for random state but also set shuffle = Ture\n",
    "    kf.get_n_splits(X_train)\n",
    "\n",
    "    for train_index, val_index in kf.split(X_train):\n",
    "        X_traincv = X_train.iloc[train_index]\n",
    "        X_valcv = X_train.iloc[val_index]\n",
    "        y_traincv = y_train.iloc[train_index]\n",
    "        y_valcv = y_train.iloc[val_index]\n",
    "        X_traincv = scaler.fit_transform(X_traincv)\n",
    "        X_valcv = scaler.fit_transform(X_valcv)\n",
    "        pls = PLSRegression(n_components=i) ## i is the no. components\n",
    "        pls.fit(X_traincv, y_traincv)\n",
    "        ypred = pls.predict(X_valcv)\n",
    "        exp_var, r_square, MSE, MAE, SMAPE = RegmodelPerformance(y_valcv, ypred)\n",
    "        exp_var_mean+= exp_var\n",
    "        r_square_mean += r_square\n",
    "        MSE_mean += MSE\n",
    "        MAE_mean += MAE\n",
    "        SMAPE_mean += SMAPE\n",
    "    exp_vars.append(exp_var_mean/10)\n",
    "    r_squares.append(r_square_mean/10)\n",
    "    MSEs.append(MSE_mean/10)\n",
    "    MAEs.append(MAE_mean/10)\n",
    "    SMAPEs.append(SMAPE_mean/10)"
   ]
  },
  {
   "cell_type": "code",
   "execution_count": 17,
   "metadata": {},
   "outputs": [
    {
     "data": {
      "text/plain": [
       "11"
      ]
     },
     "execution_count": 17,
     "metadata": {},
     "output_type": "execute_result"
    }
   ],
   "source": [
    "len(MSEs) ## printing len MSE should be the same as however many components you have looked into "
   ]
  },
  {
   "cell_type": "code",
   "execution_count": 18,
   "metadata": {},
   "outputs": [
    {
     "data": {
      "text/plain": [
       "Text(0.5, 1.0, 'Cross-validation Metrics')"
      ]
     },
     "execution_count": 18,
     "metadata": {},
     "output_type": "execute_result"
    },
    {
     "data": {
      "image/png": "[encoded data removed]",
      "text/plain": [
       "<Figure size 432x288 with 1 Axes>"
      ]
     },
     "metadata": {
      "needs_background": "light"
     },
     "output_type": "display_data"
    }
   ],
   "source": [
    "#plot test MSE vs. number of components\n",
    "plt.plot(MSEs)\n",
    "plt.xlabel('Number of PLS Components')\n",
    "plt.ylabel('MSE')\n",
    "plt.title('Cross-validation Metrics')\n"
   ]
  },
  {
   "cell_type": "markdown",
   "metadata": {},
   "source": [
    "Results vary slightly depending on the split seed values, although it looks like the best model is the one with 3 components"
   ]
  },
  {
   "cell_type": "code",
   "execution_count": 19,
   "metadata": {},
   "outputs": [
    {
     "name": "stdout",
     "output_type": "stream",
     "text": [
      "explained variance score = 0.3879\n",
      "R2 = 0.3877\n",
      "MSE = 35.1528\n",
      "MAE = 4.3807\n",
      "SMAPE = 1486.4926\n"
     ]
    }
   ],
   "source": [
    "pls2 = PLSRegression(n_components=3)\n",
    "pls2.fit(X_train_scaled, y_train)\n",
    "y_pred = pls2.predict(X_test_scaled)\n",
    "printPerformance(y_test, y_pred)"
   ]
  },
  {
   "cell_type": "markdown",
   "metadata": {},
   "source": [
    "## LASSO "
   ]
  },
  {
   "cell_type": "code",
   "execution_count": 20,
   "metadata": {},
   "outputs": [],
   "source": [
    "from sklearn.model_selection import GridSearchCV\n",
    "from sklearn.model_selection import RepeatedKFold\n",
    "from sklearn.linear_model import Lasso, Ridge, ElasticNet"
   ]
  },
  {
   "cell_type": "code",
   "execution_count": 21,
   "metadata": {},
   "outputs": [
    {
     "name": "stdout",
     "output_type": "stream",
     "text": [
      "MAE: 3.452\n",
      "Config: {'alpha': 0.21}\n"
     ]
    }
   ],
   "source": [
    "# define model\n",
    "model = Lasso()\n",
    "# define model evaluation method\n",
    "cv = RepeatedKFold(n_splits=10, n_repeats=3, random_state=42)\n",
    "# define grid\n",
    "grid = dict()\n",
    "grid['alpha'] = np.arange(0, 1, 0.01)\n",
    "# define search\n",
    "search = GridSearchCV(model, grid, scoring='neg_mean_absolute_error', cv=cv, n_jobs=-1)\n",
    "# perform the search\n",
    "results = search.fit(X_train_scaled, y_train)\n",
    "# summarize\n",
    "print('MAE: %.3f' % (results.best_score_*-1))\n",
    "print('Config: %s' % results.best_params_)"
   ]
  },
  {
   "cell_type": "code",
   "execution_count": 22,
   "metadata": {},
   "outputs": [
    {
     "name": "stdout",
     "output_type": "stream",
     "text": [
      "explained variance score = 0.4348\n",
      "R2 = 0.4328\n",
      "MSE = 32.5611\n",
      "MAE = 4.1788\n",
      "SMAPE = 13.3090\n"
     ]
    }
   ],
   "source": [
    "y_pred = search.predict(X_test_scaled)\n",
    "printPerformance(y_test, y_pred)"
   ]
  },
  {
   "cell_type": "markdown",
   "metadata": {},
   "source": [
    "### Ridge "
   ]
  },
  {
   "cell_type": "markdown",
   "metadata": {},
   "source": [
    "Try right the above but using the Ridge() function. Click the three dots in the cell below will expand to show the result"
   ]
  },
  {
   "cell_type": "code",
   "execution_count": 23,
   "metadata": {},
   "outputs": [],
   "source": [
    "# define model and try the rest yourself\n",
    "model = Ridge()"
   ]
  },
  {
   "cell_type": "code",
   "execution_count": 24,
   "metadata": {},
   "outputs": [
    {
     "name": "stdout",
     "output_type": "stream",
     "text": [
      "MAE: 5.531\n",
      "Config: {'alpha': 0.99}\n"
     ]
    }
   ],
   "source": [
    "# define model\n",
    "model = Ridge()\n",
    "# define model evaluation method\n",
    "cv = RepeatedKFold(n_splits=10, n_repeats=3, random_state=42)\n",
    "# define grid\n",
    "grid = dict()\n",
    "grid['alpha'] = np.arange(0, 1, 0.01)\n",
    "# define search\n",
    "search = GridSearchCV(model, grid, scoring='neg_mean_absolute_error', cv=cv, n_jobs=-1)\n",
    "# perform the search\n",
    "results = search.fit(X_train_scaled, y_train)\n",
    "# summarize\n",
    "print('MAE: %.3f' % (results.best_score_*-1))\n",
    "print('Config: %s' % results.best_params_)"
   ]
  },
  {
   "cell_type": "code",
   "execution_count": 25,
   "metadata": {},
   "outputs": [
    {
     "name": "stdout",
     "output_type": "stream",
     "text": [
      "explained variance score = -0.1190\n",
      "R2 = -0.1217\n",
      "MSE = 64.3957\n",
      "MAE = 5.9618\n",
      "SMAPE = 19.6583\n"
     ]
    }
   ],
   "source": [
    "# test set performane \n",
    "y_pred = search.predict(X_test_scaled)\n",
    "printPerformance(y_test, y_pred)"
   ]
  },
  {
   "cell_type": "markdown",
   "metadata": {},
   "source": [
    "### Elastic-Net "
   ]
  },
  {
   "cell_type": "markdown",
   "metadata": {},
   "source": [
    "Elastic Net is a mix of both ridge and lasso, where we can tune both of the parameters.\n",
    "\n",
    "Don't worry if the below code returns some warnings around the model not convering. However, do think about what this means"
   ]
  },
  {
   "cell_type": "code",
   "execution_count": 26,
   "metadata": {},
   "outputs": [
    {
     "name": "stdout",
     "output_type": "stream",
     "text": [
      "MAE: 3.340\n",
      "Config: {'alpha': 1, 'l1_ratio': 0.0, 'max_iter': 50}\n"
     ]
    },
    {
     "name": "stderr",
     "output_type": "stream",
     "text": [
      "/home/kl2418/.local/lib/python3.8/site-packages/sklearn/linear_model/_coordinate_descent.py:648: ConvergenceWarning: Objective did not converge. You might want to increase the number of iterations, check the scale of the features or consider increasing regularisation. Duality gap: 1.780e+03, tolerance: 8.569e-01 Linear regression models with null weight for the l1 regularization term are more efficiently fitted using one of the solvers implemented in sklearn.linear_model.Ridge/RidgeCV instead.\n",
      "  model = cd_fast.enet_coordinate_descent(\n"
     ]
    }
   ],
   "source": [
    "# define model\n",
    "model = ElasticNet()\n",
    "# define model evaluation method\n",
    "cv = RepeatedKFold(n_splits=10, n_repeats=3, random_state=42)\n",
    "# define grid\n",
    "grid = dict()\n",
    "grid = {\"max_iter\": [10, 50, 100],\n",
    "                      \"alpha\": [0.0001, 0.001, 0.01, 0.1, 1, 10, 100],\n",
    "                      \"l1_ratio\": np.arange(0.0, 1.0, 0.1)}\n",
    "# define search\n",
    "search = GridSearchCV(model, grid, scoring='neg_mean_absolute_error', cv=cv, n_jobs=-1)\n",
    "# perform the search\n",
    "results = search.fit(X_train_scaled, y_train)\n",
    "# summarize\n",
    "print('MAE: %.3f' % (results.best_score_*-1))\n",
    "print('Config: %s' % results.best_params_)"
   ]
  },
  {
   "cell_type": "code",
   "execution_count": 27,
   "metadata": {},
   "outputs": [
    {
     "name": "stdout",
     "output_type": "stream",
     "text": [
      "explained variance score = 0.3887\n",
      "R2 = 0.3887\n",
      "MSE = 35.0953\n",
      "MAE = 4.3329\n",
      "SMAPE = 13.8151\n"
     ]
    }
   ],
   "source": [
    "# test set performane \n",
    "y_pred = search.predict(X_test_scaled)\n",
    "printPerformance(y_test, y_pred)"
   ]
  },
  {
   "cell_type": "markdown",
   "metadata": {},
   "source": [
    "### What's Next?\n",
    "We have walked through how to implement PLS, Ridge, LASO, Elastic_Net regressioj\n",
    "For further understanding and practice:\n",
    "- Try using a different scaling for instance: robust_scale / RobustScaler, power_transform / PowerTransformer\n",
    "- Change certain paramaters like number of folds, ncomponents (PLS), alpha and lambda values, e.g try a larger grid search \n",
    "- Use a different dataset for a regression problem\n",
    "- Implement different error metrics for regression\n",
    "- Implement the classification versions of these, look at examples here https://scikit-learn.org/stable/modules/generated/sklearn.linear_model.RidgeClassifier.html\n"
   ]
  },
  {
   "cell_type": "code",
   "execution_count": null,
   "metadata": {},
   "outputs": [],
   "source": []
  }
 ],
 "metadata": {
  "kernelspec": {
   "display_name": "Python 3",
   "language": "python",
   "name": "python3"
  },
  "language_info": {
   "codemirror_mode": {
    "name": "ipython",
    "version": 3
   },
   "file_extension": ".py",
   "mimetype": "text/x-python",
   "name": "python",
   "nbconvert_exporter": "python",
   "pygments_lexer": "ipython3",
   "version": "3.8.10"
  }
 },
 "nbformat": 4,
 "nbformat_minor": 4
}
