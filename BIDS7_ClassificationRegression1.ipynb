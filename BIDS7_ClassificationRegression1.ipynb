{
 "cells": [
  {
   "cell_type": "code",
   "execution_count": 1,
   "metadata": {},
   "outputs": [],
   "source": [
    "# IMPORTS\n",
    "import numpy as np\n",
    "import pandas as pd\n",
    "import matplotlib.pyplot as plt\n",
    "import seaborn as sns\n",
    "import sklearn.metrics as mx\n",
    "\n",
    "from sklearn.model_selection import train_test_split\n",
    "from sklearn.linear_model import LogisticRegression # for Lasso and Elastic Net logistic regression\n",
    "from sklearn.cross_decomposition import PLSRegression"
   ]
  },
  {
   "cell_type": "markdown",
   "metadata": {},
   "source": [
    "# In this tutorial we will implement PLS, ridge, lasso and elastic net regression models\n",
    "\n",
    "## Learning Outcomes: \n",
    "1) Implement PLS, ridge, and lasso and elastic-net using the popular python library sklearn https://scikit-learn.org/stable/\n",
    "2) Visualise the regression results \n",
    "3) Explore different metrics to evaluate the model performance in regression settings\n",
    "4) Investigate the effect of scaling the data on the model performance\n",
    "5) Apply peanilised (ligistic) regression for classification "
   ]
  },
  {
   "cell_type": "markdown",
   "metadata": {},
   "source": [
    "## Data"
   ]
  },
  {
   "cell_type": "markdown",
   "metadata": {},
   "source": [
    "In this tuorial we will use some plasma metabolomics data to predict BMI"
   ]
  },
  {
   "cell_type": "code",
   "execution_count": 2,
   "metadata": {},
   "outputs": [],
   "source": [
    "df = pd.read_csv('/Data/diabetes_metabolomics_plasma.csv', index_col=0)"
   ]
  },
  {
   "cell_type": "code",
   "execution_count": 3,
   "metadata": {},
   "outputs": [
    {
     "data": {
      "text/html": [
       "<div>\n",
       "<style scoped>\n",
       "    .dataframe tbody tr th:only-of-type {\n",
       "        vertical-align: middle;\n",
       "    }\n",
       "\n",
       "    .dataframe tbody tr th {\n",
       "        vertical-align: top;\n",
       "    }\n",
       "\n",
       "    .dataframe thead th {\n",
       "        text-align: right;\n",
       "    }\n",
       "</style>\n",
       "<table border=\"1\" class=\"dataframe\">\n",
       "  <thead>\n",
       "    <tr style=\"text-align: right;\">\n",
       "      <th></th>\n",
       "      <th>AGE</th>\n",
       "      <th>GENDER</th>\n",
       "      <th>BMI</th>\n",
       "      <th>ETH</th>\n",
       "      <th>T2D</th>\n",
       "      <th>sample_id</th>\n",
       "      <th>1,11-Undecanedicarboxylic acid</th>\n",
       "      <th>1,2-dipalmitoylglycerol</th>\n",
       "      <th>1,2-propanediol</th>\n",
       "      <th>1,3,7-trimethylurate</th>\n",
       "      <th>...</th>\n",
       "      <th>tyrosine</th>\n",
       "      <th>undecanoate (11:0)</th>\n",
       "      <th>urate</th>\n",
       "      <th>urea</th>\n",
       "      <th>uridine</th>\n",
       "      <th>valine</th>\n",
       "      <th>xanthine</th>\n",
       "      <th>xylitol</th>\n",
       "      <th>xylonate</th>\n",
       "      <th>xylose</th>\n",
       "    </tr>\n",
       "  </thead>\n",
       "  <tbody>\n",
       "    <tr>\n",
       "      <th>1</th>\n",
       "      <td>34.505133</td>\n",
       "      <td>0</td>\n",
       "      <td>25.010211</td>\n",
       "      <td>2</td>\n",
       "      <td>0</td>\n",
       "      <td>QMDiab-ID222</td>\n",
       "      <td>4.015998</td>\n",
       "      <td>4.822787</td>\n",
       "      <td>5.098491</td>\n",
       "      <td>4.430118</td>\n",
       "      <td>...</td>\n",
       "      <td>6.844272</td>\n",
       "      <td>4.885885</td>\n",
       "      <td>5.824023</td>\n",
       "      <td>7.577408</td>\n",
       "      <td>5.290736</td>\n",
       "      <td>7.239540</td>\n",
       "      <td>4.254777</td>\n",
       "      <td>4.052859</td>\n",
       "      <td>4.387091</td>\n",
       "      <td>4.676128</td>\n",
       "    </tr>\n",
       "    <tr>\n",
       "      <th>2</th>\n",
       "      <td>47.066393</td>\n",
       "      <td>1</td>\n",
       "      <td>28.367759</td>\n",
       "      <td>3</td>\n",
       "      <td>0</td>\n",
       "      <td>QMDiab-ID113</td>\n",
       "      <td>4.165116</td>\n",
       "      <td>4.991613</td>\n",
       "      <td>5.064084</td>\n",
       "      <td>4.585177</td>\n",
       "      <td>...</td>\n",
       "      <td>6.755005</td>\n",
       "      <td>4.777224</td>\n",
       "      <td>5.990350</td>\n",
       "      <td>7.465627</td>\n",
       "      <td>5.220019</td>\n",
       "      <td>7.348071</td>\n",
       "      <td>4.183861</td>\n",
       "      <td>4.341484</td>\n",
       "      <td>4.460427</td>\n",
       "      <td>4.585401</td>\n",
       "    </tr>\n",
       "    <tr>\n",
       "      <th>3</th>\n",
       "      <td>55.490760</td>\n",
       "      <td>1</td>\n",
       "      <td>29.705644</td>\n",
       "      <td>1</td>\n",
       "      <td>0</td>\n",
       "      <td>QMDiab-ID29</td>\n",
       "      <td>3.928917</td>\n",
       "      <td>4.965361</td>\n",
       "      <td>5.185007</td>\n",
       "      <td>4.006547</td>\n",
       "      <td>...</td>\n",
       "      <td>6.971284</td>\n",
       "      <td>4.737634</td>\n",
       "      <td>5.892525</td>\n",
       "      <td>7.433326</td>\n",
       "      <td>5.188568</td>\n",
       "      <td>7.356957</td>\n",
       "      <td>4.350213</td>\n",
       "      <td>4.101610</td>\n",
       "      <td>4.726884</td>\n",
       "      <td>4.785554</td>\n",
       "    </tr>\n",
       "    <tr>\n",
       "      <th>4</th>\n",
       "      <td>56.334018</td>\n",
       "      <td>1</td>\n",
       "      <td>23.140496</td>\n",
       "      <td>2</td>\n",
       "      <td>0</td>\n",
       "      <td>QMDiab-ID243</td>\n",
       "      <td>4.272476</td>\n",
       "      <td>4.819821</td>\n",
       "      <td>5.015473</td>\n",
       "      <td>4.564346</td>\n",
       "      <td>...</td>\n",
       "      <td>6.943175</td>\n",
       "      <td>4.736576</td>\n",
       "      <td>5.832160</td>\n",
       "      <td>7.422004</td>\n",
       "      <td>5.037060</td>\n",
       "      <td>7.260422</td>\n",
       "      <td>4.037787</td>\n",
       "      <td>4.111296</td>\n",
       "      <td>4.488342</td>\n",
       "      <td>4.696762</td>\n",
       "    </tr>\n",
       "    <tr>\n",
       "      <th>5</th>\n",
       "      <td>35.630390</td>\n",
       "      <td>1</td>\n",
       "      <td>30.062295</td>\n",
       "      <td>1</td>\n",
       "      <td>0</td>\n",
       "      <td>QMDiab-ID270</td>\n",
       "      <td>3.914247</td>\n",
       "      <td>4.900546</td>\n",
       "      <td>5.264884</td>\n",
       "      <td>3.719528</td>\n",
       "      <td>...</td>\n",
       "      <td>7.068370</td>\n",
       "      <td>4.754971</td>\n",
       "      <td>6.013982</td>\n",
       "      <td>7.786201</td>\n",
       "      <td>5.388167</td>\n",
       "      <td>7.377851</td>\n",
       "      <td>4.211793</td>\n",
       "      <td>4.099279</td>\n",
       "      <td>4.545646</td>\n",
       "      <td>4.630343</td>\n",
       "    </tr>\n",
       "  </tbody>\n",
       "</table>\n",
       "<p>5 rows × 328 columns</p>\n",
       "</div>"
      ],
      "text/plain": [
       "         AGE  GENDER        BMI  ETH  T2D     sample_id  \\\n",
       "1  34.505133       0  25.010211    2    0  QMDiab-ID222   \n",
       "2  47.066393       1  28.367759    3    0  QMDiab-ID113   \n",
       "3  55.490760       1  29.705644    1    0   QMDiab-ID29   \n",
       "4  56.334018       1  23.140496    2    0  QMDiab-ID243   \n",
       "5  35.630390       1  30.062295    1    0  QMDiab-ID270   \n",
       "\n",
       "   1,11-Undecanedicarboxylic acid  1,2-dipalmitoylglycerol  1,2-propanediol  \\\n",
       "1                        4.015998                 4.822787         5.098491   \n",
       "2                        4.165116                 4.991613         5.064084   \n",
       "3                        3.928917                 4.965361         5.185007   \n",
       "4                        4.272476                 4.819821         5.015473   \n",
       "5                        3.914247                 4.900546         5.264884   \n",
       "\n",
       "   1,3,7-trimethylurate  ...  tyrosine  undecanoate (11:0)     urate  \\\n",
       "1              4.430118  ...  6.844272            4.885885  5.824023   \n",
       "2              4.585177  ...  6.755005            4.777224  5.990350   \n",
       "3              4.006547  ...  6.971284            4.737634  5.892525   \n",
       "4              4.564346  ...  6.943175            4.736576  5.832160   \n",
       "5              3.719528  ...  7.068370            4.754971  6.013982   \n",
       "\n",
       "       urea   uridine    valine  xanthine   xylitol  xylonate    xylose  \n",
       "1  7.577408  5.290736  7.239540  4.254777  4.052859  4.387091  4.676128  \n",
       "2  7.465627  5.220019  7.348071  4.183861  4.341484  4.460427  4.585401  \n",
       "3  7.433326  5.188568  7.356957  4.350213  4.101610  4.726884  4.785554  \n",
       "4  7.422004  5.037060  7.260422  4.037787  4.111296  4.488342  4.696762  \n",
       "5  7.786201  5.388167  7.377851  4.211793  4.099279  4.545646  4.630343  \n",
       "\n",
       "[5 rows x 328 columns]"
      ]
     },
     "execution_count": 3,
     "metadata": {},
     "output_type": "execute_result"
    }
   ],
   "source": [
    "df.head() ### "
   ]
  },
  {
   "cell_type": "markdown",
   "metadata": {},
   "source": [
    "As you can see this data set in its current format is not suitable for our alogirthms. \n",
    "In python column indices start from 0, we want to subset only the metabolomics colulmns for feature scaling. \n"
   ]
  },
  {
   "cell_type": "code",
   "execution_count": 4,
   "metadata": {},
   "outputs": [],
   "source": [
    "# Create feature matrix and target vector\n",
    "X = df.iloc[:,6:]\n",
    "y = df['BMI']"
   ]
  },
  {
   "cell_type": "markdown",
   "metadata": {},
   "source": [
    "In order to test our alogrithms we need to set aside some of the data we have. This is practice for machine learning models. We will use 80% of our data to train our model, and the remaining 20% will be used to test the performance of our model. \n",
    "\n",
    "Scikit-Learn has a function train_test_split to easily do this for us."
   ]
  },
  {
   "cell_type": "code",
   "execution_count": 5,
   "metadata": {},
   "outputs": [],
   "source": [
    "# Import train-test split\n",
    "from sklearn.model_selection import train_test_split\n",
    "\n",
    "# Split the df into 80% train 20% test data\n",
    "X_train, X_test, y_train, y_test = train_test_split(X, y, test_size= 0.20, random_state=42) #### if you want you can change the number '42 to your birthday and it will change the results slightly'"
   ]
  },
  {
   "cell_type": "markdown",
   "metadata": {},
   "source": [
    "It is crucial that all of the data it is comparing is on the same scale. In our Proteaomics data, most of the data is continuous. We will scale the data using the StandardScaler() shown in the previous tutorials. \n",
    "\n",
    "When scaling your data you want to fit the model to your training data, and only transform your testing data. "
   ]
  },
  {
   "cell_type": "code",
   "execution_count": 6,
   "metadata": {},
   "outputs": [],
   "source": [
    "# Normalize Data\n",
    "from sklearn.preprocessing import StandardScaler\n",
    "\n",
    "# Instantiate scaler model\n",
    "scaler = StandardScaler()\n",
    "\n",
    "# Fit and Transform X_train\n",
    "X_train_scaled = scaler.fit_transform(X_train)\n",
    "\n",
    "# Transform X_test\n",
    "X_test_scaled = scaler.transform(X_test)"
   ]
  },
  {
   "cell_type": "markdown",
   "metadata": {},
   "source": [
    "### PLS Regression "
   ]
  },
  {
   "cell_type": "code",
   "execution_count": 7,
   "metadata": {},
   "outputs": [],
   "source": [
    "pls2 = PLSRegression(n_components=1)\n",
    "pls2.fit(X_train_scaled, y_train)\n",
    "y_pred = pls2.predict(X_test_scaled)"
   ]
  },
  {
   "cell_type": "markdown",
   "metadata": {},
   "source": [
    "#### Metrics\n",
    "Today we will use the follwing metrics\n",
    "- explained_variance_score\n",
    "- r2_score\n",
    "- mean_squared_error\n",
    "- mean_absolute_error\n",
    "- SMAPE"
   ]
  },
  {
   "cell_type": "code",
   "execution_count": 8,
   "metadata": {},
   "outputs": [],
   "source": [
    "def smape(A, F):\n",
    "    out =  100/len(A) * np.sum(2 * np.abs(F - A) / (np.abs(A) + np.abs(F)))\n",
    "    return(out)"
   ]
  },
  {
   "cell_type": "code",
   "execution_count": 9,
   "metadata": {},
   "outputs": [],
   "source": [
    "## Here we will defeine several helper functions to compute these metrics \n",
    "from sklearn import metrics\n",
    "def RegmodelPerformance(y_true, y_pred):\n",
    "    exp_var = metrics.explained_variance_score(y_true, y_pred)\n",
    "    r_square = metrics.r2_score(y_true, y_pred)\n",
    "    MSE = metrics.mean_squared_error(y_true, y_pred)\n",
    "    MAE = metrics.mean_absolute_error(y_true, y_pred)\n",
    "    SMAPE = smape(np.array(y_true), y_pred)\n",
    "    return(exp_var, r_square, MSE, MAE, SMAPE)\n",
    "\n",
    "def printPerformance(y_true, y_pred):\n",
    "    exp_var, r_square, MSE, MAE, SMAPE = RegmodelPerformance(y_true, y_pred)\n",
    "    print(\"explained variance score = \" \"%.4f\" % exp_var)\n",
    "    print(\"R2 = \" \"%.4f\" % r_square)\n",
    "    print(\"MSE = \" \"%.4f\" % MSE)\n",
    "    print(\"MAE = \" \"%.4f\" % MAE)\n",
    "    print(\"SMAPE = \" \"%.4f\" % SMAPE)\n",
    "    np.set_printoptions(precision=2)"
   ]
  },
  {
   "cell_type": "code",
   "execution_count": 10,
   "metadata": {},
   "outputs": [
    {
     "name": "stdout",
     "output_type": "stream",
     "text": [
      "explained variance score = 0.2400\n",
      "R2 = 0.2394\n",
      "MSE = 43.6940\n",
      "MAE = 4.8778\n",
      "SMAPE = 1376.5787\n"
     ]
    }
   ],
   "source": [
    "printPerformance(y_test, y_pred)"
   ]
  },
  {
   "cell_type": "markdown",
   "metadata": {},
   "source": [
    "Whilst we have trained and fit a PLS model, we have not optimised the number of components. We also have not done 10-fold cross validation."
   ]
  },
  {
   "cell_type": "code",
   "execution_count": 11,
   "metadata": {},
   "outputs": [
    {
     "data": {
      "text/plain": [
       "Text(0.5, 1.0, 'Cross-validation Metrics')"
      ]
     },
     "execution_count": 11,
     "metadata": {},
     "output_type": "execute_result"
    },
    {
     "data": {
      "image/png": "[encoded data removed]",
      "text/plain": [
       "<Figure size 432x288 with 1 Axes>"
      ]
     },
     "metadata": {
      "needs_background": "light"
     },
     "output_type": "display_data"
    }
   ],
   "source": [
    "from sklearn.model_selection import RepeatedKFold\n",
    "from sklearn import model_selection\n",
    "from sklearn.preprocessing import scale \n",
    "cv = RepeatedKFold(n_splits=10, n_repeats=1, random_state=123)\n",
    "\n",
    "mse = []\n",
    "n = len(X_train)\n",
    "\n",
    "\n",
    "\n",
    "# Calculate MSE using cross-validation, adding one component at a time\n",
    "for i in np.arange(1, 10):\n",
    "    pls = PLSRegression(n_components=i)\n",
    "    score = -1*model_selection.cross_val_score(pls, scale(X_train), y_train, cv=cv,\n",
    "               scoring='neg_mean_squared_error').mean()\n",
    "    mse.append(score)\n",
    "\n",
    "#plot test MSE vs. number of components\n",
    "plt.plot(mse)\n",
    "plt.xlabel('Number of PLS Components')\n",
    "plt.ylabel('MSE')\n",
    "plt.title('Cross-validation Metrics')\n"
   ]
  },
  {
   "cell_type": "markdown",
   "metadata": {},
   "source": [
    "Alternatively, we can also run our own 10-fold CV without using any helper functions "
   ]
  },
  {
   "cell_type": "code",
   "execution_count": 12,
   "metadata": {},
   "outputs": [
    {
     "name": "stdout",
     "output_type": "stream",
     "text": [
      "[83810, 14592, 3278, 97196, 36048, 32098, 29256, 18289, 96530, 13434]\n"
     ]
    }
   ],
   "source": [
    "import random\n",
    "#Generate 5 random numbers between 10 and 30\n",
    "random.seed(42) ## can set this \n",
    "rand_list = random.sample(range(0, 100000), 10,)\n",
    "print(rand_list)"
   ]
  },
  {
   "cell_type": "code",
   "execution_count": 13,
   "metadata": {},
   "outputs": [],
   "source": [
    "exp_vars = []\n",
    "r_squares = []\n",
    "MSEs = []\n",
    "MAEs = []\n",
    "SMAPEs = [] \n",
    "# Calculate MSE using cross-validation, adding one component at a time\n",
    "for i in np.arange(1, 10):\n",
    "    exp_var_mean = 0 \n",
    "    r_square_mean = 0\n",
    "    MSE_mean = 0 \n",
    "    MAE_mean = 0\n",
    "    SMAPE_mean = 0 \n",
    "    for f in rand_list:\n",
    "        X_traincv, X_valcv, y_traincv, y_valcv = train_test_split(X_train, y_train, test_size= 0.20, random_state=f) #### if you want you can change the number '42 to your birthday and it will change the results slightly'\n",
    "        X_traincv = scaler.fit_transform(X_traincv)\n",
    "        X_valcv = scaler.fit_transform(X_valcv)\n",
    "        pls = PLSRegression(n_components=i)\n",
    "        pls.fit(X_traincv, y_traincv)\n",
    "        ypred = pls.predict(X_valcv)\n",
    "        exp_var, r_square, MSE, MAE, SMAPE = RegmodelPerformance(y_valcv, ypred)\n",
    "        exp_var_mean+= exp_var\n",
    "        r_square_mean += r_square\n",
    "        MSE_mean += MSE\n",
    "        MAE_mean += MAE\n",
    "        SMAPE_mean += SMAPE\n",
    "    exp_vars.append(exp_var_mean/10)\n",
    "    r_squares.append(r_square_mean/10)\n",
    "    MSEs.append(MSE_mean/10)\n",
    "    MAEs.append(MAE_mean/10)\n",
    "    SMAPEs.append(SMAPE_mean/10)"
   ]
  },
  {
   "cell_type": "code",
   "execution_count": 14,
   "metadata": {},
   "outputs": [
    {
     "data": {
      "text/plain": [
       "Text(0.5, 1.0, 'Cross-validation Metrics')"
      ]
     },
     "execution_count": 14,
     "metadata": {},
     "output_type": "execute_result"
    },
    {
     "data": {
      "image/png": "[encoded data removed]",
      "text/plain": [
       "<Figure size 432x288 with 1 Axes>"
      ]
     },
     "metadata": {
      "needs_background": "light"
     },
     "output_type": "display_data"
    }
   ],
   "source": [
    "#plot test MSE vs. number of components\n",
    "plt.plot(MSEs)\n",
    "plt.xlabel('Number of PLS Components')\n",
    "plt.ylabel('MSE')\n",
    "plt.title('Cross-validation Metrics')\n"
   ]
  },
  {
   "cell_type": "markdown",
   "metadata": {},
   "source": [
    "Results vary slightly depending on the split seed values, although it looks like the best model is the one with 3 components"
   ]
  },
  {
   "cell_type": "code",
   "execution_count": 15,
   "metadata": {},
   "outputs": [
    {
     "name": "stdout",
     "output_type": "stream",
     "text": [
      "explained variance score = 0.3870\n",
      "R2 = 0.3868\n",
      "MSE = 35.2285\n",
      "MAE = 4.3849\n",
      "SMAPE = 1487.2234\n"
     ]
    }
   ],
   "source": [
    "pls2 = PLSRegression(n_components=3)\n",
    "pls2.fit(X_train_scaled, y_train)\n",
    "y_pred = pls2.predict(X_test_scaled)\n",
    "printPerformance(y_test, y_pred)"
   ]
  },
  {
   "cell_type": "markdown",
   "metadata": {},
   "source": [
    "## LASSO "
   ]
  },
  {
   "cell_type": "code",
   "execution_count": 16,
   "metadata": {},
   "outputs": [],
   "source": [
    "from sklearn.model_selection import GridSearchCV\n",
    "from sklearn.model_selection import RepeatedKFold\n",
    "from sklearn.linear_model import Lasso, Ridge, ElasticNet"
   ]
  },
  {
   "cell_type": "code",
   "execution_count": 17,
   "metadata": {},
   "outputs": [
    {
     "name": "stdout",
     "output_type": "stream",
     "text": [
      "MAE: 3.451\n",
      "Config: {'alpha': 0.21}\n"
     ]
    }
   ],
   "source": [
    "# define model\n",
    "model = Lasso()\n",
    "# define model evaluation method\n",
    "cv = RepeatedKFold(n_splits=10, n_repeats=3, random_state=42)\n",
    "# define grid\n",
    "grid = dict()\n",
    "grid['alpha'] = np.arange(0, 1, 0.01)\n",
    "# define search\n",
    "search = GridSearchCV(model, grid, scoring='neg_mean_absolute_error', cv=cv, n_jobs=-1)\n",
    "# perform the search\n",
    "results = search.fit(X_train_scaled, y_train)\n",
    "# summarize\n",
    "print('MAE: %.3f' % (results.best_score_*-1))\n",
    "print('Config: %s' % results.best_params_)"
   ]
  },
  {
   "cell_type": "code",
   "execution_count": 18,
   "metadata": {},
   "outputs": [
    {
     "name": "stdout",
     "output_type": "stream",
     "text": [
      "explained variance score = 0.4342\n",
      "R2 = 0.4323\n",
      "MSE = 32.6151\n",
      "MAE = 4.1820\n",
      "SMAPE = 13.3193\n"
     ]
    }
   ],
   "source": [
    "y_pred = search.predict(X_test_scaled)\n",
    "printPerformance(y_test, y_pred)"
   ]
  },
  {
   "cell_type": "markdown",
   "metadata": {},
   "source": [
    "### Ridge "
   ]
  },
  {
   "cell_type": "markdown",
   "metadata": {},
   "source": [
    "Try right the above but using the Ridge() function. Click the three dots in the cell below will expand to show the result"
   ]
  },
  {
   "cell_type": "code",
   "execution_count": 19,
   "metadata": {},
   "outputs": [],
   "source": [
    "# define model and try the rest yourself\n",
    "model = Ridge()"
   ]
  },
  {
   "cell_type": "code",
   "execution_count": 20,
   "metadata": {
    "jupyter": {
     "source_hidden": true
    }
   },
   "outputs": [
    {
     "name": "stdout",
     "output_type": "stream",
     "text": [
      "MAE: 5.529\n",
      "Config: {'alpha': 0.99}\n"
     ]
    }
   ],
   "source": [
    "# define model\n",
    "model = Ridge()\n",
    "# define model evaluation method\n",
    "cv = RepeatedKFold(n_splits=10, n_repeats=3, random_state=42)\n",
    "# define grid\n",
    "grid = dict()\n",
    "grid['alpha'] = np.arange(0, 1, 0.01)\n",
    "# define search\n",
    "search = GridSearchCV(model, grid, scoring='neg_mean_absolute_error', cv=cv, n_jobs=-1)\n",
    "# perform the search\n",
    "results = search.fit(X_train_scaled, y_train)\n",
    "# summarize\n",
    "print('MAE: %.3f' % (results.best_score_*-1))\n",
    "print('Config: %s' % results.best_params_)"
   ]
  },
  {
   "cell_type": "code",
   "execution_count": 21,
   "metadata": {},
   "outputs": [
    {
     "name": "stdout",
     "output_type": "stream",
     "text": [
      "explained variance score = -0.1208\n",
      "R2 = -0.1237\n",
      "MSE = 64.5581\n",
      "MAE = 5.9639\n",
      "SMAPE = 19.6624\n"
     ]
    }
   ],
   "source": [
    "# test set performane \n",
    "y_pred = search.predict(X_test_scaled)\n",
    "printPerformance(y_test, y_pred)"
   ]
  },
  {
   "cell_type": "markdown",
   "metadata": {},
   "source": [
    "### Elastic-Net "
   ]
  },
  {
   "cell_type": "markdown",
   "metadata": {},
   "source": [
    "Elastic Net is a mix of both ridge and lasso, where we can tune both of the parameters"
   ]
  },
  {
   "cell_type": "code",
   "execution_count": 22,
   "metadata": {},
   "outputs": [
    {
     "name": "stdout",
     "output_type": "stream",
     "text": [
      "MAE: 3.317\n",
      "Config: {'alpha': 1, 'l1_ratio': 0.0, 'max_iter': 5}\n"
     ]
    },
    {
     "name": "stderr",
     "output_type": "stream",
     "text": [
      "/home/kl2418/.local/lib/python3.8/site-packages/sklearn/linear_model/_coordinate_descent.py:647: ConvergenceWarning: Objective did not converge. You might want to increase the number of iterations, check the scale of the features or consider increasing regularisation. Duality gap: 1.820e+03, tolerance: 8.574e-01 Linear regression models with null weight for the l1 regularization term are more efficiently fitted using one of the solvers implemented in sklearn.linear_model.Ridge/RidgeCV instead.\n",
      "  model = cd_fast.enet_coordinate_descent(\n"
     ]
    }
   ],
   "source": [
    "# define model\n",
    "model = ElasticNet()\n",
    "# define model evaluation method\n",
    "cv = RepeatedKFold(n_splits=10, n_repeats=3, random_state=42)\n",
    "# define grid\n",
    "grid = dict()\n",
    "grid = {\"max_iter\": [1, 5, 10],\n",
    "                      \"alpha\": [0.0001, 0.001, 0.01, 0.1, 1, 10, 100],\n",
    "                      \"l1_ratio\": np.arange(0.0, 1.0, 0.1)}\n",
    "# define search\n",
    "search = GridSearchCV(model, grid, scoring='neg_mean_absolute_error', cv=cv, n_jobs=-1)\n",
    "# perform the search\n",
    "results = search.fit(X_train_scaled, y_train)\n",
    "# summarize\n",
    "print('MAE: %.3f' % (results.best_score_*-1))\n",
    "print('Config: %s' % results.best_params_)"
   ]
  },
  {
   "cell_type": "code",
   "execution_count": 23,
   "metadata": {},
   "outputs": [
    {
     "name": "stdout",
     "output_type": "stream",
     "text": [
      "explained variance score = 0.3809\n",
      "R2 = 0.3809\n",
      "MSE = 35.5656\n",
      "MAE = 4.3748\n",
      "SMAPE = 13.9385\n"
     ]
    }
   ],
   "source": [
    "# test set performane \n",
    "y_pred = search.predict(X_test_scaled)\n",
    "printPerformance(y_test, y_pred)"
   ]
  },
  {
   "cell_type": "markdown",
   "metadata": {},
   "source": [
    "### What's Next?\n",
    "We have walked through how to implement PLS, Ridge, LASO, Elastic_Net regressioj\n",
    "For further understanding and practice:\n",
    "- Try using a different scaling for instance: robust_scale / RobustScaler, power_transform / PowerTransformer\n",
    "- Change certain paramaters like number of folds, ncomponents (PLS), alpha and lambda values\n",
    "- Use a different dataset for a regression problem\n",
    "- Implement different error metrics for regression\n",
    "- Implement the classification versions of these\n"
   ]
  },
  {
   "cell_type": "code",
   "execution_count": null,
   "metadata": {},
   "outputs": [],
   "source": []
  }
 ],
 "metadata": {
  "kernelspec": {
   "display_name": "Python 3",
   "language": "python",
   "name": "python3"
  },
  "language_info": {
   "codemirror_mode": {
    "name": "ipython",
    "version": 3
   },
   "file_extension": ".py",
   "mimetype": "text/x-python",
   "name": "python",
   "nbconvert_exporter": "python",
   "pygments_lexer": "ipython3",
   "version": "3.8.10"
  }
 },
 "nbformat": 4,
 "nbformat_minor": 4
}
